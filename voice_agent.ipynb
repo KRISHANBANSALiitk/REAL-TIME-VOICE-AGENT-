{
 "cells": [
  {
   "cell_type": "markdown",
   "id": "426c986e-7277-4dd9-908f-875fbc33d9d4",
   "metadata": {},
   "source": [
    "## Step 1: Import LiveKit Agent Modules and Plugins"
   ]
  },
  {
   "cell_type": "code",
   "execution_count": null,
   "id": "512fe011-1747-495b-9351-286b4e2f5c53",
   "metadata": {
    "height": 283
   },
   "outputs": [],
   "source": [
    "import logging\n",
    "\n",
    "from dotenv import load_dotenv\n",
    "_ = load_dotenv(override=True)\n",
    "\n",
    "logger = logging.getLogger(\"dlai-agent\")\n",
    "logger.setLevel(logging.INFO)\n",
    "\n",
    "from livekit import agents\n",
    "from livekit.agents import Agent, AgentSession, JobContext, WorkerOptions, jupyter\n",
    "from livekit.plugins import (\n",
    "    openai,\n",
    "    elevenlabs,\n",
    "    silero,\n",
    ")"
   ]
  },
  {
   "cell_type": "markdown",
   "id": "dfc94cc2-4301-48aa-a205-0a0146f6cc0c",
   "metadata": {},
   "source": [
    "## Step 2: Define Your Custom Agent"
   ]
  },
  {
   "cell_type": "code",
   "execution_count": null,
   "id": "9e00efd4-d48d-4dac-b629-ab6a4c198b73",
   "metadata": {
    "height": 334
   },
   "outputs": [],
   "source": [
    "class Assistant(Agent):\n",
    "    def __init__(self) -> None:\n",
    "        llm = openai.LLM(model=\"gpt-4o\")\n",
    "        stt = openai.STT()\n",
    "        tts = elevenlabs.TTS()\n",
    "        #tts = elevenlabs.TTS(voice_id=\"CwhRBWXzGAHq8TQ4Fs17\")  # example with defined voice\n",
    "        silero_vad = silero.VAD.load()\n",
    "\n",
    "        super().__init__(\n",
    "            instructions=\"\"\"\n",
    "                You are a helpful assistant communicating \n",
    "                via voice\n",
    "            \"\"\",\n",
    "            stt=stt,\n",
    "            llm=llm,\n",
    "            tts=tts,\n",
    "            vad=silero_vad,\n",
    "        )"
   ]
  },
  {
   "cell_type": "markdown",
   "id": "be129825-3a95-4e8f-b3a1-ef0cbac8b7b5",
   "metadata": {},
   "source": [
    "## Step 3: Create the Entrypoint"
   ]
  },
  {
   "cell_type": "code",
   "execution_count": null,
   "id": "c5dbcacb-b143-46d5-a649-27c0eb3b5cf6",
   "metadata": {
    "height": 166
   },
   "outputs": [],
   "source": [
    "async def entrypoint(ctx: JobContext):\n",
    "    await ctx.connect()\n",
    "\n",
    "    session = AgentSession()\n",
    "\n",
    "    await session.start(\n",
    "        room=ctx.room,\n",
    "        agent=Assistant()\n",
    "    )"
   ]
  },
  {
   "cell_type": "markdown",
   "id": "526ddb2c-cc9b-4a92-80d9-1f0a56532f69",
   "metadata": {},
   "source": [
    "## Step 4: Setting up the app to run\n",
    "- To speak to the agent, unmute the microphone symbol on the left. You can ignore the 'Start Audio' button.\n",
    "- The agent will try to detect the language you are speaking. To help it, start by speaking a long phrase like \"hello, how are you today\" in the language of your choice."
   ]
  },
  {
   "cell_type": "code",
   "execution_count": null,
   "id": "356a2a40-5280-45da-8850-39e52bbb515c",
   "metadata": {
    "height": 96
   },
   "outputs": [],
   "source": [
    "jupyter.run_app(\n",
    "    WorkerOptions(entrypoint_fnc=entrypoint), \n",
    "    jupyter_url=\"https://jupyter-api-livekit.vercel.app/api/join-token\"\n",
    ")"
   ]
  },
  {
   "cell_type": "markdown",
   "id": "24e97269-16fd-4b0b-81d6-a0d0c260b6c4",
   "metadata": {},
   "source": [
    "## Step 5: Try new voices\n",
    "Update step 2 with voice id's. For example:  \n",
    "`tts = elevenlabs.TTS(voice_id=\"CwhRBWXzGAHq8TQ4Fs17\") `"
   ]
  },
  {
   "cell_type": "code",
   "execution_count": null,
   "id": "8c4b58e3-0494-4e6a-beff-a5827eaf7c3c",
   "metadata": {
    "height": 81
   },
   "outputs": [],
   "source": [
    "# Roger: CwhRBWXzGAHq8TQ4Fs17\n",
    "# Sarah: EXAVITQu4vr4xnSDxMaL\n",
    "# Laura: FGY2WhTYpPnrIDTdsKH5\n",
    "# George: JBFqnCBsd6RMkjVDRZzb"
   ]
  },
  {
   "cell_type": "code",
   "execution_count": null,
   "id": "6bbc5c68-f5cd-423b-9fdf-2c80fd063b69",
   "metadata": {
    "height": 30
   },
   "outputs": [],
   "source": []
  }
 ],
 "metadata": {
  "kernelspec": {
   "display_name": "Python 3 (ipykernel)",
   "language": "python",
   "name": "python3"
  },
  "language_info": {
   "codemirror_mode": {
    "name": "ipython",
    "version": 3
   },
   "file_extension": ".py",
   "mimetype": "text/x-python",
   "name": "python",
   "nbconvert_exporter": "python",
   "pygments_lexer": "ipython3",
   "version": "3.11.3"
  }
 },
 "nbformat": 4,
 "nbformat_minor": 5
}
